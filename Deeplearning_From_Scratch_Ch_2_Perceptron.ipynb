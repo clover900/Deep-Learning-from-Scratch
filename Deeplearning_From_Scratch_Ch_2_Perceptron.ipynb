{
  "nbformat": 4,
  "nbformat_minor": 0,
  "metadata": {
    "colab": {
      "name": "Deeplearning From Scratch Ch.2 Perceptron",
      "provenance": []
    },
    "kernelspec": {
      "name": "python3",
      "display_name": "Python 3"
    },
    "language_info": {
      "name": "python"
    }
  },
  "cells": [
    {
      "cell_type": "markdown",
      "source": [
        "##**2.3 퍼셉트론 구현하기**##\n",
        "**2.3.1 간단한 구현부터**"
      ],
      "metadata": {
        "id": "PPh4IAXRrjZJ"
      }
    },
    {
      "cell_type": "code",
      "source": [
        "def AND(x1,x2):\n",
        "  w1, w2, theta = 0.5, 0.5, 0.7\n",
        "  tmp - x1*w1 + x2*w1\n",
        "  if tmp <= theta:\n",
        "    return 0\n",
        "  elif tmp > theta:\n",
        "    return 1"
      ],
      "metadata": {
        "id": "wsIDsyCLrv46"
      },
      "execution_count": 5,
      "outputs": []
    },
    {
      "cell_type": "markdown",
      "source": [
        "**2.3.2 가중치와 편향 도입**"
      ],
      "metadata": {
        "id": "wzihDMuIsAlk"
      }
    },
    {
      "cell_type": "code",
      "execution_count": 3,
      "metadata": {
        "colab": {
          "base_uri": "https://localhost:8080/"
        },
        "id": "P1ZihY3Sp8ku",
        "outputId": "d48fa749-81fe-4844-a41c-3ae5259528ab"
      },
      "outputs": [
        {
          "output_type": "stream",
          "name": "stdout",
          "text": [
            "[0.  0.5]\n",
            "0.5\n",
            "-0.19999999999999996\n"
          ]
        }
      ],
      "source": [
        "\n",
        "import numpy as np\n",
        "x = np.array([0,1])\n",
        "w = np.array([0.5, 0.5])\n",
        "b = -0.7\n",
        "print(w*x)\n",
        "\n",
        "print(np.sum(w*x))\n",
        "print(np.sum(w*x)+b)"
      ]
    },
    {
      "cell_type": "markdown",
      "source": [
        "**2.3.3 가중치와 편향 구현하기**"
      ],
      "metadata": {
        "id": "a7BF4EYBsGWL"
      }
    },
    {
      "cell_type": "code",
      "source": [
        "#가중치와 편향을 도입한 AND 게이트\n",
        "def AND(x1, x2):\n",
        "  x = np.array([x1, x2])\n",
        "  w = np.array([0.5, 0.5])\n",
        "  b = -0.7\n",
        "  tmp = np.sum(w*x) +b\n",
        "  if tmp <= 0:\n",
        "    return 0\n",
        "  else:\n",
        "    return 1 "
      ],
      "metadata": {
        "id": "Q_vlFVGtqQZ2"
      },
      "execution_count": 4,
      "outputs": []
    },
    {
      "cell_type": "code",
      "source": [
        "#가중치와 편향을 도입한  NAND와 OR 게이트 \n",
        "def NAND(x1, x2):\n",
        "  x = np.array([x1, x2])\n",
        "  w = np.array([-0.5, -0.5])\n",
        "  b = 0.7\n",
        "  tmp = np.sum(w*x) + b\n",
        "  if tmp <= 0:\n",
        "    return 0\n",
        "  else:\n",
        "    return 1\n",
        "\n",
        "def OR(x1, x2):\n",
        "  x = np.array([x1, x2])\n",
        "  w = np.array([0.5, 0.5])\n",
        "  b = -0.2\n",
        "  tmp = np.sum(w*x) +b\n",
        "  if tmp <= 0:\n",
        "    return 0\n",
        "  else: \n",
        "    return 1"
      ],
      "metadata": {
        "id": "xBwvCGmuq-JW"
      },
      "execution_count": 6,
      "outputs": []
    },
    {
      "cell_type": "markdown",
      "source": [
        "XOR 배타적 논리합. x1과 x2 중 한 쪽이 1일때만 1을 출력한다. ('배타적'이란 자기 외에는 거부한다는 의미)\n",
        "\n",
        "x1, x2, y \\\n",
        "(0,0) = 0 \\\n",
        "(1,0) = 1 \\\n",
        "(0,1) = 1 \\\n",
        "(1,1) = 0 \\\n",
        "\n",
        "퍼셉트론은 직선 하나로 나눈 영역만 표현할 수 있다는 한계가 있다. \n",
        "\n"
      ],
      "metadata": {
        "id": "C6NGmUHFuErL"
      }
    },
    {
      "cell_type": "code",
      "source": [
        ""
      ],
      "metadata": {
        "id": "KRpHtTwutUMc"
      },
      "execution_count": null,
      "outputs": []
    }
  ]
}